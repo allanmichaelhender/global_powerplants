{
 "cells": [
  {
   "cell_type": "code",
   "execution_count": 15,
   "id": "4b2290af-bb73-43ef-8aa6-f61b5cb5b6fa",
   "metadata": {},
   "outputs": [],
   "source": [
    "import pandas as pd\n",
    "import numpy as np"
   ]
  },
  {
   "cell_type": "code",
   "execution_count": 16,
   "id": "7f2cd207-b786-4dd4-8664-5b23dcaacdc4",
   "metadata": {},
   "outputs": [
    {
     "name": "stderr",
     "output_type": "stream",
     "text": [
      "C:\\Users\\allan\\AppData\\Local\\Temp\\ipykernel_16748\\2134002808.py:1: DtypeWarning: Columns (10) have mixed types. Specify dtype option on import or set low_memory=False.\n",
      "  df = pd.read_csv(\"global_power_plant_database.csv\")\n"
     ]
    }
   ],
   "source": [
    "df = pd.read_csv(\"global_power_plant_database.csv\")"
   ]
  },
  {
   "cell_type": "code",
   "execution_count": 17,
   "id": "b05d4cfa-e510-42f4-aee1-d3905777be70",
   "metadata": {},
   "outputs": [
    {
     "data": {
      "text/plain": [
       "Index(['country', 'country_long', 'name', 'gppd_idnr', 'capacity_mw',\n",
       "       'latitude', 'longitude', 'primary_fuel', 'other_fuel1', 'other_fuel2',\n",
       "       'other_fuel3', 'commissioning_year', 'owner', 'source', 'url',\n",
       "       'geolocation_source', 'wepp_id', 'year_of_capacity_data',\n",
       "       'generation_gwh_2013', 'generation_gwh_2014', 'generation_gwh_2015',\n",
       "       'generation_gwh_2016', 'generation_gwh_2017', 'generation_gwh_2018',\n",
       "       'generation_gwh_2019', 'generation_data_source',\n",
       "       'estimated_generation_gwh_2013', 'estimated_generation_gwh_2014',\n",
       "       'estimated_generation_gwh_2015', 'estimated_generation_gwh_2016',\n",
       "       'estimated_generation_gwh_2017', 'estimated_generation_note_2013',\n",
       "       'estimated_generation_note_2014', 'estimated_generation_note_2015',\n",
       "       'estimated_generation_note_2016', 'estimated_generation_note_2017'],\n",
       "      dtype='object')"
      ]
     },
     "execution_count": 17,
     "metadata": {},
     "output_type": "execute_result"
    }
   ],
   "source": [
    "df.columns"
   ]
  },
  {
   "cell_type": "code",
   "execution_count": 18,
   "id": "5ffa7c72-c0e0-417c-be72-15daac2b83ad",
   "metadata": {},
   "outputs": [],
   "source": [
    "df = df[[\"country_long\", \"name\", \"capacity_mw\", \"primary_fuel\",\"commissioning_year\",'estimated_generation_gwh_2013', 'estimated_generation_gwh_2014',\n",
    "       'estimated_generation_gwh_2015', 'estimated_generation_gwh_2016',\n",
    "       'estimated_generation_gwh_2017']]"
   ]
  },
  {
   "cell_type": "code",
   "execution_count": 19,
   "id": "6b02670c-4137-4bb0-8da5-b0a9d4d25fa9",
   "metadata": {},
   "outputs": [],
   "source": [
    "df = df.replace(\"\", \"NULL\", regex=True)\n",
    "df = df.replace(np.nan, \"NULL\", regex=True)\n"
   ]
  },
  {
   "cell_type": "code",
   "execution_count": 21,
   "id": "6fbb3f14-7966-48cc-871c-232ce7d2f3de",
   "metadata": {},
   "outputs": [],
   "source": [
    "df.to_csv(\"test.csv\")"
   ]
  },
  {
   "cell_type": "code",
   "execution_count": 22,
   "id": "79721002-5d94-4b4f-8927-90dab41b992d",
   "metadata": {},
   "outputs": [
    {
     "data": {
      "text/plain": [
       "34936"
      ]
     },
     "execution_count": 22,
     "metadata": {},
     "output_type": "execute_result"
    }
   ],
   "source": [
    "len(df)"
   ]
  }
 ],
 "metadata": {
  "kernelspec": {
   "display_name": "Python 3 (ipykernel)",
   "language": "python",
   "name": "python3"
  },
  "language_info": {
   "codemirror_mode": {
    "name": "ipython",
    "version": 3
   },
   "file_extension": ".py",
   "mimetype": "text/x-python",
   "name": "python",
   "nbconvert_exporter": "python",
   "pygments_lexer": "ipython3",
   "version": "3.13.5"
  }
 },
 "nbformat": 4,
 "nbformat_minor": 5
}
